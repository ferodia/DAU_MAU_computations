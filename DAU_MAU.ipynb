{
 "cells": [
  {
   "cell_type": "code",
   "execution_count": 8,
   "metadata": {
    "collapsed": false
   },
   "outputs": [],
   "source": [
    "# Time imports\n",
    "import time as t\n",
    "from datetime import date, datetime, timedelta"
   ]
  },
  {
   "cell_type": "code",
   "execution_count": 2,
   "metadata": {
    "collapsed": false
   },
   "outputs": [],
   "source": [
    "from pyspark.sql.functions import countDistinct, approxCountDistinct"
   ]
  },
  {
   "cell_type": "code",
   "execution_count": 3,
   "metadata": {
    "collapsed": false
   },
   "outputs": [],
   "source": [
    "# Load Avro file\n",
    "df = spark.read.format(\"com.databricks.spark.avro\").load(\"active_users.avro\")"
   ]
  },
  {
   "cell_type": "code",
   "execution_count": 4,
   "metadata": {
    "collapsed": false
   },
   "outputs": [],
   "source": [
    "###### DAU ######\n",
    "def compute_DAU(dataframe, day_date):\n",
    "    \"\"\"\n",
    "    Function that compute the cadinality of active users\n",
    "    \"\"\"\n",
    "    # Get today's date and yesterday's date \n",
    "    upper_bound_date = ( day_date + timedelta(days=1)).strftime('%d/%m/%Y')\n",
    "    lower_bound_date = day_date.strftime('%d/%m/%Y')\n",
    "    \n",
    "    # Convert date to timestamp in miliseconds\n",
    "    upper_bound_timestamp = long(t.mktime(t.strptime(upper_bound_date, \"%d/%m/%Y\"))*1000)\n",
    "    lower_bound_timestamp = long(t.mktime(t.strptime(lower_bound_date, \"%d/%m/%Y\"))*1000)\n",
    "    \n",
    "    # Filter yesterday's active users\n",
    "    filtered = dataframe.filter(dataframe.timestamp.between(lower_bound_timestamp, upper_bound_timestamp) )\n",
    "    \n",
    "    return filtered.agg(countDistinct(filtered._id)).first()[0]\n",
    "    "
   ]
  },
  {
   "cell_type": "code",
   "execution_count": 5,
   "metadata": {
    "collapsed": false
   },
   "outputs": [
    {
     "data": {
      "text/plain": [
       "738574"
      ]
     },
     "execution_count": 5,
     "metadata": {},
     "output_type": "execute_result"
    }
   ],
   "source": [
    "# Example\n",
    "day = datetime(2017, 1, 15)\n",
    "compute_DAU(df,day)"
   ]
  },
  {
   "cell_type": "code",
   "execution_count": 9,
   "metadata": {
    "collapsed": true
   },
   "outputs": [],
   "source": [
    "###### MAU ######\n",
    "def compute_MAU(dataframe):\n",
    "    \"\"\"\n",
    "    Function that compute approximately the cardinality of active users in the last 30 days\n",
    "    \"\"\"\n",
    "    # Get today's date and yesterday's date \n",
    "    upper_bound_date = (date.today()).strftime('%d/%m/%Y')\n",
    "    lower_bound_date = (date.today() - timedelta(days=30)).strftime('%d/%m/%Y')\n",
    "    \n",
    "    # Convert date to timestamp in miliseconds\n",
    "    upper_bound_timestamp = long(t.mktime(t.strptime(upper_bound_date, \"%d/%m/%Y\"))*1000)\n",
    "    lower_bound_timestamp = long(t.mktime(t.strptime(lower_bound_date, \"%d/%m/%Y\"))*1000)\n",
    "    \n",
    "    # Filter yesterday's active users\n",
    "    filtered = dataframe.filter(dataframe.timestamp.between(lower_bound_timestamp, upper_bound_timestamp) )\n",
    "    \n",
    "    return filtered.agg(approxCountDistinct(filtered._id)).first()[0]"
   ]
  },
  {
   "cell_type": "code",
   "execution_count": 10,
   "metadata": {
    "collapsed": false
   },
   "outputs": [
    {
     "data": {
      "text/plain": [
       "731769"
      ]
     },
     "execution_count": 10,
     "metadata": {},
     "output_type": "execute_result"
    }
   ],
   "source": [
    "compute_MAU(df)"
   ]
  },
  {
   "cell_type": "code",
   "execution_count": null,
   "metadata": {
    "collapsed": true
   },
   "outputs": [],
   "source": []
  }
 ],
 "metadata": {
  "anaconda-cloud": {},
  "kernelspec": {
   "display_name": "Python [conda root]",
   "language": "python",
   "name": "conda-root-py"
  },
  "language_info": {
   "codemirror_mode": {
    "name": "ipython",
    "version": 2
   },
   "file_extension": ".py",
   "mimetype": "text/x-python",
   "name": "python",
   "nbconvert_exporter": "python",
   "pygments_lexer": "ipython2",
   "version": "2.7.12"
  }
 },
 "nbformat": 4,
 "nbformat_minor": 1
}
